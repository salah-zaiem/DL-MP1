{
 "cells": [
  {
   "cell_type": "markdown",
   "metadata": {},
   "source": [
    "## Mini Project 1 \n",
    "### Mohamed Salah Zaiem"
   ]
  },
  {
   "cell_type": "code",
   "execution_count": 1,
   "metadata": {},
   "outputs": [
    {
     "name": "stderr",
     "output_type": "stream",
     "text": [
      "C:\\Anaconda3\\lib\\site-packages\\h5py\\__init__.py:34: FutureWarning: Conversion of the second argument of issubdtype from `float` to `np.floating` is deprecated. In future, it will be treated as `np.float64 == np.dtype(float).type`.\n",
      "  from ._conv import register_converters as _register_converters\n",
      "Using TensorFlow backend.\n"
     ]
    }
   ],
   "source": [
    "import numpy as np\n",
    "import matplotlib.pyplot as plt \n",
    "from keras.optimizers import SGD\n",
    "import pandas as pd \n",
    "import keras\n",
    "from keras.models import Sequential\n",
    "from keras.layers import Input, Dense, Conv1D, MaxPooling1D, Conv2D, MaxPooling2D, GlobalAveragePooling1D\n",
    "from keras.utils import to_categorical"
   ]
  },
  {
   "cell_type": "code",
   "execution_count": 6,
   "metadata": {},
   "outputs": [
    {
     "data": {
      "image/png": "[encoded data removed]",
      "text/plain": [
       "<matplotlib.figure.Figure at 0x1c296141dd8>"
      ]
     },
     "metadata": {},
     "output_type": "display_data"
    }
   ],
   "source": [
    "import matplotlib.pyplot as plt\n",
    "%matplotlib inline\n",
    "import numpy as np\n",
    "\n",
    "# On some implementations of matplotlib, you may need to change this value\n",
    "IMAGE_SIZE = 72\n",
    "\n",
    "def generate_a_drawing(figsize, U, V, noise=0.0):\n",
    "    fig = plt.figure(figsize=(figsize,figsize))\n",
    "    ax = plt.subplot(111)\n",
    "    plt.axis('Off')\n",
    "    ax.set_xlim(0,figsize)\n",
    "    ax.set_ylim(0,figsize)\n",
    "    ax.fill(U, V, \"k\")\n",
    "    fig.canvas.draw()\n",
    "    imdata = np.frombuffer(fig.canvas.tostring_rgb(), dtype=np.uint8)[::3].astype(np.float32)\n",
    "    imdata = imdata + noise * np.random.random(imdata.size)\n",
    "    plt.close(fig)\n",
    "    return imdata\n",
    "\n",
    "def generate_a_rectangle(noise=0.0, free_location=False):\n",
    "    figsize = 1.0    \n",
    "    U = np.zeros(4)\n",
    "    V = np.zeros(4)\n",
    "    if free_location:\n",
    "        corners = np.random.random(4)\n",
    "        top = max(corners[0], corners[1])\n",
    "        bottom = min(corners[0], corners[1])\n",
    "        left = min(corners[2], corners[3])\n",
    "        right = max(corners[2], corners[3])\n",
    "    else:\n",
    "        side = (0.3 + 0.7 * np.random.random()) * figsize\n",
    "        top = figsize/2 + side/2\n",
    "        bottom = figsize/2 - side/2\n",
    "        left = bottom\n",
    "        right = top\n",
    "    U[0] = U[1] = top\n",
    "    U[2] = U[3] = bottom\n",
    "    V[0] = V[3] = left\n",
    "    V[1] = V[2] = right\n",
    "    return generate_a_drawing(figsize, U, V, noise)\n",
    "\n",
    "\n",
    "def generate_a_disk(noise=0.0, free_location=False):\n",
    "    figsize = 1.0\n",
    "    if free_location:\n",
    "        center = np.random.random(2)\n",
    "    else:\n",
    "        center = (figsize/2, figsize/2)\n",
    "    radius = (0.3 + 0.7 * np.random.random()) * figsize/2\n",
    "    N = 50\n",
    "    U = np.zeros(N)\n",
    "    V = np.zeros(N)\n",
    "    i = 0\n",
    "    for t in np.linspace(0, 2*np.pi, N):\n",
    "        U[i] = center[0] + np.cos(t) * radius\n",
    "        V[i] = center[1] + np.sin(t) * radius\n",
    "        i = i + 1\n",
    "    return generate_a_drawing(figsize, U, V, noise)\n",
    "\n",
    "def generate_a_triangle(noise=0.0, free_location=False):\n",
    "    figsize = 1.0\n",
    "    if free_location:\n",
    "        U = np.random.random(3)\n",
    "        V = np.random.random(3)\n",
    "    else:\n",
    "        size = (0.3 + 0.7 * np.random.random())*figsize/2\n",
    "        middle = figsize/2\n",
    "        U = (middle, middle+size, middle-size)\n",
    "        V = (middle+size, middle-size, middle-size)\n",
    "    imdata = generate_a_drawing(figsize, U, V, noise)\n",
    "    return [imdata, [U[0], V[0], U[1], V[1], U[2], V[2]]]\n",
    "\n",
    "\n",
    "im = generate_a_rectangle(10, True)\n",
    "plt.imshow(im.reshape(IMAGE_SIZE,IMAGE_SIZE), cmap='gray')\n",
    "\n",
    "im = generate_a_disk(10)\n",
    "plt.imshow(im.reshape(IMAGE_SIZE,IMAGE_SIZE), cmap='gray')\n",
    "\n",
    "[im, v] = generate_a_triangle(20, False)\n",
    "plt.imshow(im.reshape(IMAGE_SIZE,IMAGE_SIZE), cmap='gray')\n",
    "\n",
    "\n",
    "def generate_dataset_classification(nb_samples, noise=0.0, free_location=False):\n",
    "    # Getting im_size:\n",
    "    im_size = generate_a_rectangle().shape[0]\n",
    "    X = np.zeros([nb_samples,im_size])\n",
    "    Y = np.zeros(nb_samples)\n",
    "    print('Creating data:')\n",
    "    for i in range(nb_samples):\n",
    "        if i % 10 == 0:\n",
    "            print(i)\n",
    "        category = np.random.randint(3)\n",
    "        if category == 0:\n",
    "            X[i] = generate_a_rectangle(noise, free_location)\n",
    "        elif category == 1: \n",
    "            X[i] = generate_a_disk(noise, free_location)\n",
    "        else:\n",
    "            [X[i], V] = generate_a_triangle(noise, free_location)\n",
    "        Y[i] = category\n",
    "    X = (X + noise) / (255 + 2 * noise)\n",
    "    return [X, Y]\n",
    "\n",
    "def generate_test_set_classification():\n",
    "    np.random.seed(42)\n",
    "    [X_test, Y_test] = generate_dataset_classification(300, 20, True)\n",
    "    Y_test = to_categorical(Y_test, 3) \n",
    "    return [X_test, Y_test]\n",
    "\n",
    "def generate_dataset_regression(nb_samples, noise=0.0):\n",
    "    # Getting im_size:\n",
    "    im_size = generate_a_triangle()[0].shape[0]\n",
    "    X = np.zeros([nb_samples,im_size])\n",
    "    Y = np.zeros([nb_samples, 6])\n",
    "    print('Creating data:')\n",
    "    for i in range(nb_samples):\n",
    "        if i % 10 == 0:\n",
    "            print(i)\n",
    "        [X[i], Y[i]] = generate_a_triangle(noise, True)\n",
    "    X = (X + noise) / (255 + 2 * noise)\n",
    "    return [X, Y]\n",
    "\n",
    "import matplotlib.patches as patches\n",
    "\n",
    "def visualize_prediction(x, y):\n",
    "    fig, ax = plt.subplots(figsize=(5, 5))\n",
    "    I = x.reshape((IMAGE_SIZE,IMAGE_SIZE))\n",
    "    ax.imshow(I, extent=[-0.15,1.15,-0.15,1.15],cmap='gray')\n",
    "    ax.set_xlim([0,1])\n",
    "    ax.set_ylim([0,1])\n",
    "\n",
    "    xy = y.reshape(3,2)\n",
    "    tri = patches.Polygon(xy, closed=True, fill = False, edgecolor = 'r', linewidth = 5, alpha = 0.5)\n",
    "    ax.add_patch(tri)\n",
    "\n",
    "    plt.show()\n",
    "\n",
    "def generate_test_set_regression():\n",
    "    np.random.seed(42)\n",
    "    [X_test, Y_test] = generate_dataset_regression(300, 20)\n",
    "    return [X_test, Y_test]\n",
    "\n",
    "\n"
   ]
  },
  {
   "cell_type": "code",
   "execution_count": 8,
   "metadata": {},
   "outputs": [
    {
     "name": "stdout",
     "output_type": "stream",
     "text": [
      "Creating data:\n",
      "0\n",
      "10\n",
      "20\n",
      "30\n",
      "40\n",
      "50\n",
      "60\n",
      "70\n",
      "80\n",
      "90\n",
      "100\n",
      "110\n",
      "120\n",
      "130\n",
      "140\n",
      "150\n",
      "160\n",
      "170\n",
      "180\n",
      "190\n",
      "200\n",
      "210\n",
      "220\n",
      "230\n",
      "240\n",
      "250\n",
      "260\n",
      "270\n",
      "280\n",
      "290\n"
     ]
    }
   ],
   "source": [
    "[X_train, Y_train] = generate_dataset_classification(300, 20)\n"
   ]
  },
  {
   "cell_type": "code",
   "execution_count": 4,
   "metadata": {},
   "outputs": [
    {
     "data": {
      "text/plain": [
       "array([0., 2., 1., 2., 2., 1., 1., 1., 1., 1., 0., 2., 0., 1., 2., 2., 0.,\n",
       "       1., 2., 0., 0., 0., 2., 2., 2., 0., 2., 0., 2., 1., 0., 2., 0., 1.,\n",
       "       0., 1., 0., 1., 0., 1., 0., 1., 1., 1., 0., 2., 0., 0., 2., 1., 2.,\n",
       "       2., 0., 1., 1., 2., 0., 0., 0., 1., 1., 2., 1., 2., 2., 0., 0., 1.,\n",
       "       2., 1., 2., 0., 0., 2., 0., 2., 2., 1., 1., 1., 0., 1., 1., 1., 2.,\n",
       "       0., 2., 0., 2., 0., 0., 0., 1., 2., 2., 2., 2., 0., 1., 1., 1., 2.,\n",
       "       0., 0., 2., 1., 0., 2., 0., 2., 0., 2., 0., 0., 2., 0., 2., 0., 2.,\n",
       "       1., 1., 1., 0., 0., 0., 0., 2., 2., 2., 0., 2., 2., 0., 2., 2., 2.,\n",
       "       2., 2., 0., 0., 1., 2., 0., 1., 2., 0., 2., 0., 0., 2., 0., 2., 0.,\n",
       "       0., 2., 2., 1., 0., 0., 0., 2., 0., 1., 1., 0., 2., 0., 1., 1., 1.,\n",
       "       0., 1., 1., 2., 1., 2., 0., 0., 2., 1., 2., 2., 1., 0., 1., 2., 1.,\n",
       "       2., 2., 0., 2., 0., 1., 1., 0., 2., 2., 0., 2., 0., 0., 0., 0., 0.,\n",
       "       1., 1., 0., 2., 1., 0., 2., 1., 1., 2., 1., 2., 0., 1., 0., 0., 1.,\n",
       "       2., 0., 1., 2., 2., 1., 2., 1., 0., 1., 0., 2., 2., 2., 2., 0., 1.,\n",
       "       1., 0., 2., 1., 1., 1., 0., 2., 0., 1., 1., 1., 1., 1., 0., 0., 2.,\n",
       "       1., 2., 2., 2., 0., 0., 2., 2., 2., 1., 1., 2., 2., 0., 1., 0., 1.,\n",
       "       2., 2., 0., 2., 2., 1., 1., 0., 2., 0., 1., 0., 2., 2., 0., 2., 1.,\n",
       "       0., 2., 2., 1., 0., 0., 1., 0., 1., 1., 1.])"
      ]
     },
     "execution_count": 4,
     "metadata": {},
     "output_type": "execute_result"
    }
   ],
   "source": [
    "Y_train"
   ]
  },
  {
   "cell_type": "code",
   "execution_count": 5,
   "metadata": {},
   "outputs": [
    {
     "data": {
      "text/plain": [
       "72.0"
      ]
     },
     "execution_count": 5,
     "metadata": {},
     "output_type": "execute_result"
    }
   ],
   "source": [
    "np.sqrt(5184)"
   ]
  },
  {
   "cell_type": "code",
   "execution_count": 9,
   "metadata": {
    "collapsed": true
   },
   "outputs": [],
   "source": [
    "categorical_y  = to_categorical(Y_train, 3)"
   ]
  },
  {
   "cell_type": "markdown",
   "metadata": {},
   "source": [
    "## First classification with Adam Optimizer"
   ]
  },
  {
   "cell_type": "code",
   "execution_count": 21,
   "metadata": {},
   "outputs": [
    {
     "name": "stdout",
     "output_type": "stream",
     "text": [
      "Epoch 1/22\n",
      "300/300 [==============================] - 1s 2ms/step - loss: 2.2381 - acc: 0.3433\n",
      "Epoch 2/22\n",
      "300/300 [==============================] - 0s 189us/step - loss: 0.7268 - acc: 0.4167\n",
      "Epoch 3/22\n",
      "300/300 [==============================] - 0s 177us/step - loss: 0.3577 - acc: 0.4467\n",
      "Epoch 4/22\n",
      "300/300 [==============================] - 0s 154us/step - loss: 0.2229 - acc: 0.6567\n",
      "Epoch 5/22\n",
      "300/300 [==============================] - 0s 162us/step - loss: 0.1697 - acc: 0.7133\n",
      "Epoch 6/22\n",
      "300/300 [==============================] - 0s 159us/step - loss: 0.1327 - acc: 0.7700\n",
      "Epoch 7/22\n",
      "300/300 [==============================] - 0s 157us/step - loss: 0.1031 - acc: 0.8133\n",
      "Epoch 8/22\n",
      "300/300 [==============================] - 0s 162us/step - loss: 0.0913 - acc: 0.8667\n",
      "Epoch 9/22\n",
      "300/300 [==============================] - 0s 172us/step - loss: 0.0768 - acc: 0.8833\n",
      "Epoch 10/22\n",
      "300/300 [==============================] - 0s 171us/step - loss: 0.0759 - acc: 0.8800\n",
      "Epoch 11/22\n",
      "300/300 [==============================] - 0s 180us/step - loss: 0.0661 - acc: 0.9333\n",
      "Epoch 12/22\n",
      "300/300 [==============================] - 0s 170us/step - loss: 0.0552 - acc: 0.9533\n",
      "Epoch 13/22\n",
      "300/300 [==============================] - 0s 154us/step - loss: 0.0557 - acc: 0.9533\n",
      "Epoch 14/22\n",
      "300/300 [==============================] - 0s 165us/step - loss: 0.0374 - acc: 0.9933\n",
      "Epoch 15/22\n",
      "300/300 [==============================] - 0s 174us/step - loss: 0.0358 - acc: 0.9900\n",
      "Epoch 16/22\n",
      "300/300 [==============================] - 0s 157us/step - loss: 0.0308 - acc: 0.9967\n",
      "Epoch 17/22\n",
      "300/300 [==============================] - 0s 170us/step - loss: 0.0267 - acc: 0.9967\n",
      "Epoch 18/22\n",
      "300/300 [==============================] - 0s 175us/step - loss: 0.0253 - acc: 0.9967\n",
      "Epoch 19/22\n",
      "300/300 [==============================] - 0s 271us/step - loss: 0.0283 - acc: 0.9833\n",
      "Epoch 20/22\n",
      "300/300 [==============================] - 0s 254us/step - loss: 0.0209 - acc: 1.0000 0s - loss: 0.0208 - acc: 1.000\n",
      "Epoch 21/22\n",
      "300/300 [==============================] - 0s 205us/step - loss: 0.0218 - acc: 0.9933\n",
      "Epoch 22/22\n",
      "300/300 [==============================] - 0s 241us/step - loss: 0.0168 - acc: 0.9967\n"
     ]
    },
    {
     "data": {
      "text/plain": [
       "<keras.callbacks.History at 0x1c2a4900f28>"
      ]
     },
     "execution_count": 21,
     "metadata": {},
     "output_type": "execute_result"
    }
   ],
   "source": [
    "model = Sequential()\n",
    "model.add(Dense(3, input_shape=(5184,) ,activation=\"linear\"))\n",
    "model.compile(optimizer='Adam',\n",
    "              loss =\"mean_squared_error\", \n",
    "              metrics=['accuracy'])\n",
    "model.fit(X_train, categorical_y, batch_size=32, epochs=22)"
   ]
  },
  {
   "cell_type": "code",
   "execution_count": 11,
   "metadata": {},
   "outputs": [
    {
     "data": {
      "text/plain": [
       "<matplotlib.image.AxesImage at 0x1c2a61b9978>"
      ]
     },
     "execution_count": 11,
     "metadata": {},
     "output_type": "execute_result"
    },
    {
     "data": {
      "image/png": "[encoded data removed]",
      "text/plain": [
       "<matplotlib.figure.Figure at 0x1c29cd2da20>"
      ]
     },
     "metadata": {},
     "output_type": "display_data"
    }
   ],
   "source": [
    "weights  = model.get_weights()[0]\n",
    "first_column   = weights[:,0]\n",
    "image_first = np.reshape(first_column, (72,72))\n",
    "plt.imshow(image_first)\n"
   ]
  },
  {
   "cell_type": "code",
   "execution_count": 12,
   "metadata": {},
   "outputs": [
    {
     "data": {
      "text/plain": [
       "<matplotlib.image.AxesImage at 0x1c2a6197828>"
      ]
     },
     "execution_count": 12,
     "metadata": {},
     "output_type": "execute_result"
    },
    {
     "data": {
      "image/png": "[encoded data removed]",
      "text/plain": [
       "<matplotlib.figure.Figure at 0x1c2a46c5080>"
      ]
     },
     "metadata": {},
     "output_type": "display_data"
    }
   ],
   "source": [
    "second_column   = weights[:,1]\n",
    "image_second = np.reshape(second_column, (72,72))\n",
    "plt.imshow(image_second)\n"
   ]
  },
  {
   "cell_type": "code",
   "execution_count": 13,
   "metadata": {
    "scrolled": true
   },
   "outputs": [
    {
     "data": {
      "text/plain": [
       "<matplotlib.image.AxesImage at 0x1c2a6033898>"
      ]
     },
     "execution_count": 13,
     "metadata": {},
     "output_type": "execute_result"
    },
    {
     "data": {
      "image/png": "[encoded data removed]",
      "text/plain": [
       "<matplotlib.figure.Figure at 0x1c2a4de1080>"
      ]
     },
     "metadata": {},
     "output_type": "display_data"
    }
   ],
   "source": [
    "third_column   = weights[:,2]\n",
    "image_third = np.reshape(third_column, (72,72))\n",
    "plt.imshow(image_third)"
   ]
  },
  {
   "cell_type": "markdown",
   "metadata": {},
   "source": [
    "## Stochastic Gradient Descent"
   ]
  },
  {
   "cell_type": "code",
   "execution_count": 22,
   "metadata": {},
   "outputs": [
    {
     "name": "stdout",
     "output_type": "stream",
     "text": [
      "Epoch 1/22\n",
      "300/300 [==============================] - 0s 864us/step - loss: 0.6470 - acc: 0.3567\n",
      "Epoch 2/22\n",
      "300/300 [==============================] - 0s 217us/step - loss: 0.2236 - acc: 0.5200\n",
      "Epoch 3/22\n",
      "300/300 [==============================] - 0s 209us/step - loss: 0.1673 - acc: 0.6533\n",
      "Epoch 4/22\n",
      "300/300 [==============================] - 0s 214us/step - loss: 0.1413 - acc: 0.7500\n",
      "Epoch 5/22\n",
      "300/300 [==============================] - 0s 224us/step - loss: 0.1232 - acc: 0.7733\n",
      "Epoch 6/22\n",
      "300/300 [==============================] - 0s 232us/step - loss: 0.1060 - acc: 0.8267\n",
      "Epoch 7/22\n",
      "300/300 [==============================] - 0s 212us/step - loss: 0.0926 - acc: 0.8533\n",
      "Epoch 8/22\n",
      "300/300 [==============================] - 0s 167us/step - loss: 0.0814 - acc: 0.8733\n",
      "Epoch 9/22\n",
      "300/300 [==============================] - 0s 187us/step - loss: 0.0827 - acc: 0.8767\n",
      "Epoch 10/22\n",
      "300/300 [==============================] - 0s 346us/step - loss: 0.0695 - acc: 0.8933\n",
      "Epoch 11/22\n",
      "300/300 [==============================] - 0s 194us/step - loss: 0.0718 - acc: 0.8833\n",
      "Epoch 12/22\n",
      "300/300 [==============================] - 0s 162us/step - loss: 0.0592 - acc: 0.9200\n",
      "Epoch 13/22\n",
      "300/300 [==============================] - 0s 152us/step - loss: 0.0562 - acc: 0.9500\n",
      "Epoch 14/22\n",
      "300/300 [==============================] - 0s 152us/step - loss: 0.0530 - acc: 0.9167\n",
      "Epoch 15/22\n",
      "300/300 [==============================] - 0s 162us/step - loss: 0.0497 - acc: 0.9433\n",
      "Epoch 16/22\n",
      "300/300 [==============================] - 0s 164us/step - loss: 0.0508 - acc: 0.9333\n",
      "Epoch 17/22\n",
      "300/300 [==============================] - 0s 170us/step - loss: 0.0447 - acc: 0.9500\n",
      "Epoch 18/22\n",
      "300/300 [==============================] - 0s 164us/step - loss: 0.0434 - acc: 0.9533\n",
      "Epoch 19/22\n",
      "300/300 [==============================] - 0s 150us/step - loss: 0.0402 - acc: 0.9667\n",
      "Epoch 20/22\n",
      "300/300 [==============================] - 0s 149us/step - loss: 0.0372 - acc: 0.9700\n",
      "Epoch 21/22\n",
      "300/300 [==============================] - 0s 165us/step - loss: 0.0389 - acc: 0.9700\n",
      "Epoch 22/22\n",
      "300/300 [==============================] - 0s 165us/step - loss: 0.0338 - acc: 0.9767\n"
     ]
    },
    {
     "data": {
      "text/plain": [
       "<keras.callbacks.History at 0x1c2a44d6ac8>"
      ]
     },
     "execution_count": 22,
     "metadata": {},
     "output_type": "execute_result"
    }
   ],
   "source": [
    "model2 = Sequential()\n",
    "sgd = SGD(lr=0.0003, decay=1e-6, momentum=0.9, nesterov=True,clipnorm=100)\n",
    "\n",
    "model2.add(Dense(3, input_shape=(5184,) ,activation=\"linear\"))\n",
    "model2.compile(optimizer=sgd,\n",
    "              loss =\"mean_squared_error\", \n",
    "              metrics=['accuracy'])\n",
    "model2.fit(X_train, categorical_y, batch_size=32, epochs=22)"
   ]
  },
  {
   "cell_type": "markdown",
   "metadata": {},
   "source": [
    "# Test time"
   ]
  },
  {
   "cell_type": "code",
   "execution_count": 20,
   "metadata": {},
   "outputs": [
    {
     "name": "stdout",
     "output_type": "stream",
     "text": [
      "[[0. 1. 0.]]\n",
      "[[5.845604e-05 9.999416e-01 0.000000e+00]]\n"
     ]
    }
   ],
   "source": [
    "X_test = generate_a_rectangle()\n",
    "X_test = X_test.reshape(1, X_test.shape[0])\n",
    "print(model.predict(X_test))\n",
    "print(model2.predict(X_test))"
   ]
  },
  {
   "cell_type": "code",
   "execution_count": null,
   "metadata": {
    "collapsed": true
   },
   "outputs": [],
   "source": []
  },
  {
   "cell_type": "code",
   "execution_count": 23,
   "metadata": {
    "scrolled": true
   },
   "outputs": [
    {
     "name": "stdout",
     "output_type": "stream",
     "text": [
      "Creating data:\n",
      "0\n",
      "10\n",
      "20\n",
      "30\n",
      "40\n",
      "50\n",
      "60\n",
      "70\n",
      "80\n",
      "90\n",
      "100\n",
      "110\n",
      "120\n",
      "130\n",
      "140\n",
      "150\n",
      "160\n",
      "170\n",
      "180\n",
      "190\n",
      "200\n",
      "210\n",
      "220\n",
      "230\n",
      "240\n",
      "250\n",
      "260\n",
      "270\n",
      "280\n",
      "290\n"
     ]
    }
   ],
   "source": [
    "[X_train2, Y_train2] = generate_dataset_classification(300, 20, True)\n"
   ]
  },
  {
   "cell_type": "code",
   "execution_count": 24,
   "metadata": {},
   "outputs": [
    {
     "name": "stdout",
     "output_type": "stream",
     "text": [
      "Epoch 1/30\n",
      "300/300 [==============================] - 2s 6ms/step - loss: 0.4914 - acc: 0.3867\n",
      "Epoch 2/30\n",
      "300/300 [==============================] - 0s 1ms/step - loss: 0.2771 - acc: 0.4100\n",
      "Epoch 3/30\n",
      "300/300 [==============================] - 0s 1ms/step - loss: 0.2433 - acc: 0.5067\n",
      "Epoch 4/30\n",
      "300/300 [==============================] - 0s 1ms/step - loss: 0.2316 - acc: 0.5400\n",
      "Epoch 5/30\n",
      "300/300 [==============================] - 0s 1ms/step - loss: 0.2324 - acc: 0.5367\n",
      "Epoch 6/30\n",
      "300/300 [==============================] - 0s 2ms/step - loss: 0.2000 - acc: 0.5967\n",
      "Epoch 7/30\n",
      "300/300 [==============================] - 0s 992us/step - loss: 0.1898 - acc: 0.6100\n",
      "Epoch 8/30\n",
      "300/300 [==============================] - 0s 1ms/step - loss: 0.1760 - acc: 0.6400\n",
      "Epoch 9/30\n",
      "300/300 [==============================] - 0s 1ms/step - loss: 0.1916 - acc: 0.6067\n",
      "Epoch 10/30\n",
      "300/300 [==============================] - 0s 1ms/step - loss: 0.1814 - acc: 0.6067\n",
      "Epoch 11/30\n",
      "300/300 [==============================] - 0s 1ms/step - loss: 0.1768 - acc: 0.6433\n",
      "Epoch 12/30\n",
      "300/300 [==============================] - 0s 1ms/step - loss: 0.1995 - acc: 0.5367\n",
      "Epoch 13/30\n",
      "300/300 [==============================] - 0s 1ms/step - loss: 0.1862 - acc: 0.6167\n",
      "Epoch 14/30\n",
      "300/300 [==============================] - 0s 1ms/step - loss: 0.1641 - acc: 0.6500\n",
      "Epoch 15/30\n",
      "300/300 [==============================] - 0s 1ms/step - loss: 0.1786 - acc: 0.6233\n",
      "Epoch 16/30\n",
      "300/300 [==============================] - 0s 809us/step - loss: 0.1815 - acc: 0.5833\n",
      "Epoch 17/30\n",
      "300/300 [==============================] - 0s 1ms/step - loss: 0.1608 - acc: 0.6733\n",
      "Epoch 18/30\n",
      "300/300 [==============================] - 0s 1ms/step - loss: 0.1469 - acc: 0.7100\n",
      "Epoch 19/30\n",
      "300/300 [==============================] - 0s 1ms/step - loss: 0.1437 - acc: 0.7467\n",
      "Epoch 20/30\n",
      "300/300 [==============================] - 1s 2ms/step - loss: 0.1589 - acc: 0.6933\n",
      "Epoch 21/30\n",
      "300/300 [==============================] - 0s 2ms/step - loss: 0.1545 - acc: 0.7133\n",
      "Epoch 22/30\n",
      "300/300 [==============================] - 0s 1ms/step - loss: 0.1619 - acc: 0.6567\n",
      "Epoch 23/30\n",
      "300/300 [==============================] - 0s 1ms/step - loss: 0.1490 - acc: 0.7100\n",
      "Epoch 24/30\n",
      "300/300 [==============================] - 0s 1ms/step - loss: 0.1589 - acc: 0.6667\n",
      "Epoch 25/30\n",
      "300/300 [==============================] - 0s 1ms/step - loss: 0.1438 - acc: 0.7167\n",
      "Epoch 26/30\n",
      "300/300 [==============================] - 0s 892us/step - loss: 0.1567 - acc: 0.7167\n",
      "Epoch 27/30\n",
      "300/300 [==============================] - 0s 1ms/step - loss: 0.1349 - acc: 0.7367\n",
      "Epoch 28/30\n",
      "300/300 [==============================] - 0s 1ms/step - loss: 0.1323 - acc: 0.7833\n",
      "Epoch 29/30\n",
      "300/300 [==============================] - 0s 1ms/step - loss: 0.1235 - acc: 0.8067\n",
      "Epoch 30/30\n",
      "300/300 [==============================] - 0s 1ms/step - loss: 0.1303 - acc: 0.7600\n"
     ]
    },
    {
     "data": {
      "text/plain": [
       "<keras.callbacks.History at 0x1c2c3d91710>"
      ]
     },
     "execution_count": 24,
     "metadata": {},
     "output_type": "execute_result"
    }
   ],
   "source": [
    "categorical_y2  = to_categorical(Y_train2, 3)\n",
    "model3 = Sequential()\n",
    "model3.add(Dense(3, input_shape=(5184,) ,activation=\"linear\"))\n",
    "model3.compile(optimizer=sgd,\n",
    "              loss =\"mean_squared_error\", \n",
    "              metrics=['accuracy'])\n",
    "model3.fit(X_train2, categorical_y2, batch_size=16, epochs=30)"
   ]
  },
  {
   "cell_type": "code",
   "execution_count": 9,
   "metadata": {},
   "outputs": [
    {
     "name": "stdout",
     "output_type": "stream",
     "text": [
      "_________________________________________________________________\n",
      "Layer (type)                 Output Shape              Param #   \n",
      "=================================================================\n",
      "dense_3 (Dense)              (None, 3)                 15555     \n",
      "=================================================================\n",
      "Total params: 15,555\n",
      "Trainable params: 15,555\n",
      "Non-trainable params: 0\n",
      "_________________________________________________________________\n"
     ]
    }
   ],
   "source": [
    "model3.summary()"
   ]
  },
  {
   "cell_type": "code",
   "execution_count": 16,
   "metadata": {},
   "outputs": [
    {
     "name": "stdout",
     "output_type": "stream",
     "text": [
      "Creating data:\n",
      "0\n",
      "10\n",
      "20\n",
      "30\n",
      "40\n",
      "50\n",
      "60\n",
      "70\n",
      "80\n",
      "90\n",
      "100\n",
      "110\n",
      "120\n",
      "130\n",
      "140\n",
      "150\n",
      "160\n",
      "170\n",
      "180\n",
      "190\n",
      "200\n",
      "210\n",
      "220\n",
      "230\n",
      "240\n",
      "250\n",
      "260\n",
      "270\n",
      "280\n",
      "290\n"
     ]
    }
   ],
   "source": [
    "[X_test, Y_test] = generate_test_set_classification()\n"
   ]
  },
  {
   "cell_type": "code",
   "execution_count": 17,
   "metadata": {},
   "outputs": [
    {
     "name": "stdout",
     "output_type": "stream",
     "text": [
      "300/300 [==============================] - 0s 1ms/step\n"
     ]
    },
    {
     "data": {
      "text/plain": [
       "[0.1980092618862788, 0.573333334128062]"
      ]
     },
     "execution_count": 17,
     "metadata": {},
     "output_type": "execute_result"
    }
   ],
   "source": [
    "model3.evaluate(X_test, Y_test)\n"
   ]
  },
  {
   "cell_type": "code",
   "execution_count": 10,
   "metadata": {
    "collapsed": true
   },
   "outputs": [],
   "source": [
    "X_train2.shape\n",
    "X_train_conv = np.reshape(X_train2, (300,72,72))"
   ]
  },
  {
   "cell_type": "markdown",
   "metadata": {},
   "source": [
    "Accuracy = 0.5133\n"
   ]
  },
  {
   "cell_type": "code",
   "execution_count": 5,
   "metadata": {
    "collapsed": true
   },
   "outputs": [],
   "source": [
    "model_convolutional = Sequential()\n",
    "model_convolutional.add(Conv1D(16, kernel_size=5, activation=\"linear\", input_shape=(72,72)))\n",
    "model_convolutional.add(MaxPooling1D(pool_size=8))\n",
    "model_convolutional.add(Flatten())\n",
    "\n",
    "model_convolutional.add(Dense(3 ,activation=\"softmax\"))\n",
    "\n",
    "model_convolutional.compile(optimizer='Adam',\n",
    "              loss =\"mean_squared_error\", \n",
    "              metrics=['accuracy'])"
   ]
  },
  {
   "cell_type": "code",
   "execution_count": null,
   "metadata": {
    "collapsed": true
   },
   "outputs": [],
   "source": []
  },
  {
   "cell_type": "code",
   "execution_count": 22,
   "metadata": {},
   "outputs": [
    {
     "data": {
      "text/plain": [
       "[<tf.Tensor 'dense_6/Softmax:0' shape=(?, 3) dtype=float32>]"
      ]
     },
     "execution_count": 22,
     "metadata": {},
     "output_type": "execute_result"
    }
   ],
   "source": [
    "model_convolutional.outputs"
   ]
  },
  {
   "cell_type": "code",
   "execution_count": 4,
   "metadata": {},
   "outputs": [
    {
     "name": "stdout",
     "output_type": "stream",
     "text": [
      "_________________________________________________________________\n",
      "Layer (type)                 Output Shape              Param #   \n",
      "=================================================================\n",
      "conv1d_1 (Conv1D)            (None, 68, 16)            5776      \n",
      "_________________________________________________________________\n",
      "max_pooling1d_1 (MaxPooling1 (None, 68, 16)            0         \n",
      "_________________________________________________________________\n",
      "global_average_pooling1d_1 ( (None, 16)                0         \n",
      "_________________________________________________________________\n",
      "dense_1 (Dense)              (None, 3)                 51        \n",
      "=================================================================\n",
      "Total params: 5,827\n",
      "Trainable params: 5,827\n",
      "Non-trainable params: 0\n",
      "_________________________________________________________________\n"
     ]
    }
   ],
   "source": [
    "model_convolutional.summary()"
   ]
  },
  {
   "cell_type": "code",
   "execution_count": null,
   "metadata": {
    "collapsed": true
   },
   "outputs": [],
   "source": [
    "model_convolutional.fit(X_train_conv, categorical_y2, batch_size=8, epochs=30)"
   ]
  },
  {
   "cell_type": "code",
   "execution_count": 7,
   "metadata": {},
   "outputs": [
    {
     "name": "stdout",
     "output_type": "stream",
     "text": [
      "Creating data:\n",
      "0\n",
      "10\n",
      "20\n",
      "30\n",
      "40\n",
      "50\n",
      "60\n",
      "70\n",
      "80\n",
      "90\n",
      "100\n",
      "110\n",
      "120\n",
      "130\n",
      "140\n",
      "150\n",
      "160\n",
      "170\n",
      "180\n",
      "190\n",
      "200\n",
      "210\n",
      "220\n",
      "230\n",
      "240\n",
      "250\n",
      "260\n",
      "270\n",
      "280\n",
      "290\n"
     ]
    },
    {
     "data": {
      "text/plain": [
       "array([[0.97516758, 0.95548179, 0.9468631 , ..., 0.96536806, 0.95181534,\n",
       "        0.98028428],\n",
       "       [0.96360943, 0.98498575, 0.98826272, ..., 0.95600723, 0.95762933,\n",
       "        0.9894104 ],\n",
       "       [0.94713198, 0.98803159, 0.97654638, ..., 0.98586359, 0.96701574,\n",
       "        0.98797193],\n",
       "       ...,\n",
       "       [0.98108946, 0.98974678, 0.9689903 , ..., 0.98983189, 0.98675252,\n",
       "        0.98179699],\n",
       "       [0.98587113, 0.99147744, 0.94419493, ..., 0.9457938 , 0.97277797,\n",
       "        0.97303276],\n",
       "       [0.99374865, 0.94638261, 0.93983287, ..., 0.93514343, 0.99439524,\n",
       "        0.95461207]])"
      ]
     },
     "execution_count": 7,
     "metadata": {},
     "output_type": "execute_result"
    }
   ],
   "source": [
    "[X_train, Y_train] = generate_dataset_regression(300, 20)\n",
    "X_train"
   ]
  }
 ],
 "metadata": {
  "kernelspec": {
   "display_name": "Python 3",
   "language": "python",
   "name": "python3"
  },
  "language_info": {
   "codemirror_mode": {
    "name": "ipython",
    "version": 3
   },
   "file_extension": ".py",
   "mimetype": "text/x-python",
   "name": "python",
   "nbconvert_exporter": "python",
   "pygments_lexer": "ipython3",
   "version": "3.6.5"
  }
 },
 "nbformat": 4,
 "nbformat_minor": 2
}
